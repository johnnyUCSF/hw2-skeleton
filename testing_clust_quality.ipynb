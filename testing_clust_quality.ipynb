{
 "cells": [
  {
   "cell_type": "code",
   "execution_count": 4,
   "metadata": {
    "collapsed": false,
    "deletable": true,
    "editable": true
   },
   "outputs": [],
   "source": [
    "from hw2skeleton import cluster\n",
    "from hw2skeleton import io\n",
    "import os\n",
    "%matplotlib inline"
   ]
  },
  {
   "cell_type": "code",
   "execution_count": 5,
   "metadata": {
    "collapsed": false,
    "deletable": true,
    "editable": true
   },
   "outputs": [
    {
     "name": "stdout",
     "output_type": "stream",
     "text": [
      "Read in 136 active sites\n"
     ]
    }
   ],
   "source": [
    "####import data\n",
    "active_sites = io.read_active_sites('/Users/johnny/Desktop/class/hw2-skeleton/data')\n",
    "test = active_sites[0:40]"
   ]
  },
  {
   "cell_type": "code",
   "execution_count": 8,
   "metadata": {
    "collapsed": false,
    "deletable": true,
    "editable": true
   },
   "outputs": [
    {
     "name": "stdout",
     "output_type": "stream",
     "text": [
      "1\n",
      "clustered!\n",
      "checkqual\n",
      "2\n",
      "clustered!\n",
      "checkqual\n",
      "3\n",
      "clustered!\n",
      "checkqual\n"
     ]
    },
    {
     "data": {
      "text/plain": [
       "{'bodies': [<matplotlib.collections.PolyCollection at 0x108ebe6a0>,\n",
       "  <matplotlib.collections.PolyCollection at 0x108ebed68>,\n",
       "  <matplotlib.collections.PolyCollection at 0x108edc438>],\n",
       " 'cbars': <matplotlib.collections.LineCollection at 0x108ede668>,\n",
       " 'cmaxes': <matplotlib.collections.LineCollection at 0x108d35358>,\n",
       " 'cmins': <matplotlib.collections.LineCollection at 0x108ede0b8>}"
      ]
     },
     "execution_count": 8,
     "metadata": {},
     "output_type": "execute_result"
    },
    {
     "data": {
      "image/png": "[encoded data removed]",
      "text/plain": [
       "<matplotlib.figure.Figure at 0x105400cc0>"
      ]
     },
     "metadata": {},
     "output_type": "display_data"
    }
   ],
   "source": [
    "####partitioning evaluation\n",
    "max_clust = 15\n",
    "quality_scores = []\n",
    "for k in range(1,max_clust+1):\n",
    "    print(k)\n",
    "    output = cluster.cluster_by_partitioning(active_sites,k)\n",
    "    print('clustered!')\n",
    "    quality = cluster.calc_clust_dist(output)\n",
    "    print('checkqual')\n",
    "    quality_scores.append(quality)\n",
    "\n",
    "cluster.plt.violinplot(quality_scores)"
   ]
  },
  {
   "cell_type": "code",
   "execution_count": 7,
   "metadata": {
    "collapsed": false,
    "deletable": true,
    "editable": true
   },
   "outputs": [
    {
     "data": {
      "text/plain": [
       "{'bodies': [<matplotlib.collections.PolyCollection at 0x109e1fa90>,\n",
       "  <matplotlib.collections.PolyCollection at 0x109df6128>,\n",
       "  <matplotlib.collections.PolyCollection at 0x109df67b8>,\n",
       "  <matplotlib.collections.PolyCollection at 0x109df6e48>,\n",
       "  <matplotlib.collections.PolyCollection at 0x108da2518>,\n",
       "  <matplotlib.collections.PolyCollection at 0x108da29e8>,\n",
       "  <matplotlib.collections.PolyCollection at 0x108dab048>,\n",
       "  <matplotlib.collections.PolyCollection at 0x108dab6d8>,\n",
       "  <matplotlib.collections.PolyCollection at 0x108dabd68>,\n",
       "  <matplotlib.collections.PolyCollection at 0x108db3438>,\n",
       "  <matplotlib.collections.PolyCollection at 0x108db3ac8>,\n",
       "  <matplotlib.collections.PolyCollection at 0x108db3f28>,\n",
       "  <matplotlib.collections.PolyCollection at 0x108dbd5f8>,\n",
       "  <matplotlib.collections.PolyCollection at 0x108dbdc88>,\n",
       "  <matplotlib.collections.PolyCollection at 0x108dc6358>,\n",
       "  <matplotlib.collections.PolyCollection at 0x108dc69e8>,\n",
       "  <matplotlib.collections.PolyCollection at 0x108dc6fd0>,\n",
       "  <matplotlib.collections.PolyCollection at 0x108dcd4a8>,\n",
       "  <matplotlib.collections.PolyCollection at 0x108dcdb38>,\n",
       "  <matplotlib.collections.PolyCollection at 0x108dd5208>,\n",
       "  <matplotlib.collections.PolyCollection at 0x108dd5898>,\n",
       "  <matplotlib.collections.PolyCollection at 0x108dd5f28>,\n",
       "  <matplotlib.collections.PolyCollection at 0x108cefb38>,\n",
       "  <matplotlib.collections.PolyCollection at 0x108cf6320>,\n",
       "  <matplotlib.collections.PolyCollection at 0x108cf3f60>,\n",
       "  <matplotlib.collections.PolyCollection at 0x108ce5b00>,\n",
       "  <matplotlib.collections.PolyCollection at 0x109294c18>,\n",
       "  <matplotlib.collections.PolyCollection at 0x108cd0d68>,\n",
       "  <matplotlib.collections.PolyCollection at 0x108ddd748>,\n",
       "  <matplotlib.collections.PolyCollection at 0x108dddcc0>],\n",
       " 'cbars': <matplotlib.collections.LineCollection at 0x108df5a58>,\n",
       " 'cmaxes': <matplotlib.collections.LineCollection at 0x109e1f940>,\n",
       " 'cmins': <matplotlib.collections.LineCollection at 0x108dedda0>}"
      ]
     },
     "execution_count": 7,
     "metadata": {},
     "output_type": "execute_result"
    },
    {
     "data": {
      "image/png": "[encoded data removed]",
      "text/plain": [
       "<matplotlib.figure.Figure at 0x1092c3ac8>"
      ]
     },
     "metadata": {},
     "output_type": "display_data"
    }
   ],
   "source": [
    "####\n",
    "quality_scores = []\n",
    "output = cluster.cluster_hierarchically(active_sites)\n",
    "for clust in output:\n",
    "    quality = cluster.calc_clust_dist(clust)\n",
    "    quality_scores.append(quality)\n",
    "####format\n",
    "quality_scores.reverse()\n",
    "# import matplotlib.pyplot as plt\n",
    "# %matplotlib inline\n",
    "cluster.plt.violinplot(quality_scores)"
   ]
  },
  {
   "cell_type": "code",
   "execution_count": 10,
   "metadata": {
    "collapsed": false,
    "deletable": true,
    "editable": true
   },
   "outputs": [],
   "source": [
    "# tractable subset\n",
    "pdb_ids = [276, 4629, 10701]\n",
    "\n",
    "active_sites = []\n",
    "for id in pdb_ids:\n",
    "    filepath = os.path.join(\"data\", \"%i.pdb\"%id)\n",
    "    active_sites.append(io.read_active_site(filepath))"
   ]
  },
  {
   "cell_type": "code",
   "execution_count": 15,
   "metadata": {
    "collapsed": false
   },
   "outputs": [
    {
     "data": {
      "text/plain": [
       "[[[276, 4629], [10701]], [[276, 4629, 10701]]]"
      ]
     },
     "execution_count": 15,
     "metadata": {},
     "output_type": "execute_result"
    }
   ],
   "source": [
    "cluster.cluster_hierarchically(active_sites)"
   ]
  }
 ],
 "metadata": {
  "kernelspec": {
   "display_name": "Python 3",
   "language": "python",
   "name": "python3"
  },
  "language_info": {
   "codemirror_mode": {
    "name": "ipython",
    "version": 3
   },
   "file_extension": ".py",
   "mimetype": "text/x-python",
   "name": "python",
   "nbconvert_exporter": "python",
   "pygments_lexer": "ipython3",
   "version": "3.6.1"
  }
 },
 "nbformat": 4,
 "nbformat_minor": 2
}
