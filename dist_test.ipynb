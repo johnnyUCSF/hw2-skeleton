{
 "cells": [
  {
   "cell_type": "code",
   "execution_count": 41,
   "metadata": {
    "collapsed": false
   },
   "outputs": [],
   "source": [
    "import random\n",
    "import numpy\n",
    "import matplotlib.pyplot as plt\n",
    "%matplotlib inline\n",
    "################################\n",
    "num_iterations = 20\n",
    "min_items = 5\n",
    "max_items = 50\n",
    "#####\n",
    "Items = []\n",
    "x = []\n",
    "x2 = []\n",
    "for num_items in range(min_items,max_items):\n",
    "    Dists = []\n",
    "    for iterations in range(num_iterations):\n",
    "        initial_set = random.sample(range(20, 80),num_items)\n",
    "        # add_one = random.sample(range(1, 100),5)\n",
    "        total_dist = 0\n",
    "        for item1 in initial_set:\n",
    "            for item2 in initial_set:\n",
    "                total_dist += abs(item2-item1)\n",
    "        Dists.append(total_dist)\n",
    "    ###find median distance\n",
    "    Items.append((numpy.median(Dists)))\n",
    "    x.append(num_items)\n",
    "    x2.append(num_items**2)"
   ]
  },
  {
   "cell_type": "code",
   "execution_count": 42,
   "metadata": {
    "collapsed": false
   },
   "outputs": [
    {
     "data": {
      "image/png": "[encoded data removed]",
      "text/plain": [
       "<matplotlib.figure.Figure at 0x10ecdfd30>"
      ]
     },
     "metadata": {},
     "output_type": "display_data"
    }
   ],
   "source": [
    "#####plot linear\n",
    "plt.plot(x, Items, 'ro')\n",
    "plt.show()"
   ]
  },
  {
   "cell_type": "code",
   "execution_count": 43,
   "metadata": {
    "collapsed": false
   },
   "outputs": [
    {
     "data": {
      "image/png": "[encoded data removed]",
      "text/plain": [
       "<matplotlib.figure.Figure at 0x10ec32ba8>"
      ]
     },
     "metadata": {},
     "output_type": "display_data"
    }
   ],
   "source": [
    "#####plot x^2\n",
    "plt.plot(x2, Items, 'ro')\n",
    "plt.show()"
   ]
  }
 ],
 "metadata": {
  "kernelspec": {
   "display_name": "Python 3",
   "language": "python",
   "name": "python3"
  },
  "language_info": {
   "codemirror_mode": {
    "name": "ipython",
    "version": 3
   },
   "file_extension": ".py",
   "mimetype": "text/x-python",
   "name": "python",
   "nbconvert_exporter": "python",
   "pygments_lexer": "ipython3",
   "version": "3.6.1"
  }
 },
 "nbformat": 4,
 "nbformat_minor": 2
}
